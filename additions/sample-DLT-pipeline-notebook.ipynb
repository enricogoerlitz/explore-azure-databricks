{
 "cells": [
  {
   "cell_type": "code",
   "execution_count": 0,
   "metadata": {
    "application/vnd.databricks.v1+cell": {
     "cellMetadata": {},
     "inputWidgets": {},
     "nuid": "02a4c553-4c11-4c17-aba4-046e0ca9f22a",
     "showTitle": false,
     "tableResultSettingsMap": {},
     "title": ""
    }
   },
   "outputs": [],
   "source": [
    "# \n",
    "# Synthetic Retail Dataset\n",
    "# Data Set Information\n",
    "# ====================\n",
    "# * Sales Orders: **sales_orders/sales_orders.json** records the customers' originating purchase order.\n",
    "# * Customers: **customers/customers.csv** contains those customers who are located in the US and are buying the finished products.\n",
    "#\n",
    "\n",
    "from pyspark.sql.functions import *\n",
    "from pyspark.sql.types import *\n",
    "import dlt\n",
    "\n",
    "@dlt.view(\n",
    "  comment=\"The customers buying finished products, ingested from /databricks-datasets.\"\n",
    ")\n",
    "def customers():\n",
    "  return spark.read.csv('/databricks-datasets/retail-org/customers/customers.csv', header=True)\n"
   ]
  },
  {
   "cell_type": "code",
   "execution_count": 0,
   "metadata": {
    "application/vnd.databricks.v1+cell": {
     "cellMetadata": {},
     "inputWidgets": {},
     "nuid": "26c6d460-5913-4ce2-84aa-bc9fd6122fa2",
     "showTitle": false,
     "tableResultSettingsMap": {},
     "title": ""
    }
   },
   "outputs": [],
   "source": [
    "@dlt.table(\n",
    "  comment=\"The raw sales orders, ingested from /databricks-datasets.\",\n",
    "  table_properties={\n",
    "    \"myCompanyPipeline.quality\": \"bronze\",\n",
    "    \"pipelines.autoOptimize.managed\": \"true\"\n",
    "  }\n",
    ")\n",
    "def sales_orders_raw():\n",
    "  return (\n",
    "    spark.readStream.format(\"cloudFiles\") \\\n",
    "      .option(\"cloudFiles.schemaLocation\", \"/tmp/john.odwyer/pythonsalestest\") \\\n",
    "      .option(\"cloudFiles.format\", \"json\") \\\n",
    "      .option(\"cloudFiles.inferColumnTypes\", \"true\") \\\n",
    "      .load(\"/databricks-datasets/retail-org/sales_orders/\")\n",
    "  )"
   ]
  },
  {
   "cell_type": "code",
   "execution_count": 0,
   "metadata": {
    "application/vnd.databricks.v1+cell": {
     "cellMetadata": {},
     "inputWidgets": {},
     "nuid": "cc77ae0c-8804-49eb-82e4-063eb575cc85",
     "showTitle": false,
     "tableResultSettingsMap": {},
     "title": ""
    }
   },
   "outputs": [],
   "source": [
    "@dlt.table(\n",
    "  comment=\"The cleaned sales orders with valid order_number(s) and partitioned by order_date\",\n",
    "  partition_cols=[\"order_date\"],\n",
    "  table_properties={\n",
    "    \"myCompanyPipeline.quality\": \"silver\",\n",
    "    \"pipelines.autoOptimize.managed\": \"true\"\n",
    "  }\n",
    ")\n",
    "@dlt.expect_or_drop(\"valid order_number\", \"order_number IS NOT NULL\")\n",
    "def sales_orders_cleaned():\n",
    "  df = dlt.read_stream(\"sales_orders_raw\").join(dlt.read(\"customers\"), [\"customer_id\", \"customer_name\"], \"left\")\n",
    "  df = df.withColumn(\"order_datetime\", from_unixtime(df.order_datetime).cast(\"TIMESTAMP\")) \n",
    "  df = df.withColumn(\"order_date\", df.order_datetime.cast(\"DATE\")) \n",
    "  df = df.select(\"customer_id\", \"customer_name\", \"number_of_line_items\", \"order_datetime\", \"order_date\",\n",
    "    \"order_number\", \"ordered_products\", \"state\", \"city\", \"lon\", \"lat\", \"units_purchased\", \"loyalty_segment\")\n",
    "  return df\n"
   ]
  },
  {
   "cell_type": "code",
   "execution_count": 0,
   "metadata": {
    "application/vnd.databricks.v1+cell": {
     "cellMetadata": {},
     "inputWidgets": {},
     "nuid": "ea1e68a0-78e8-41a0-a409-9e268615c9a2",
     "showTitle": false,
     "tableResultSettingsMap": {},
     "title": ""
    }
   },
   "outputs": [],
   "source": [
    "@dlt.table(\n",
    "  comment=\"Aggregated sales orders in LA\",\n",
    "  table_properties={\n",
    "    \"myCompanyPipeline.quality\": \"gold\",\n",
    "    \"pipelines.autoOptimize.managed\": \"true\"\n",
    "  }\n",
    ")\n",
    "def sales_order_in_la():\n",
    "  df = dlt.read_stream(\"sales_orders_cleaned\").where(\"city == 'Los Angeles'\") \n",
    "  df = df.select(df.city, df.order_date, df.customer_id, df.customer_name, explode(df.ordered_products).alias(\"ordered_products_explode\"))\n",
    "\n",
    "  dfAgg = df.groupBy(df.order_date, df.city, df.customer_id, df.customer_name, df.ordered_products_explode.curr.alias(\"currency\"))\\\n",
    "    .agg(sum(df.ordered_products_explode.price).alias(\"sales\"), sum(df.ordered_products_explode.qty).alias(\"quantity\"))\n",
    "\n",
    "  return dfAgg\n"
   ]
  },
  {
   "cell_type": "code",
   "execution_count": 0,
   "metadata": {
    "application/vnd.databricks.v1+cell": {
     "cellMetadata": {},
     "inputWidgets": {},
     "nuid": "f1267be4-643c-4921-835f-76ff94063354",
     "showTitle": false,
     "tableResultSettingsMap": {},
     "title": ""
    }
   },
   "outputs": [],
   "source": [
    "@dlt.table(\n",
    "  comment=\"Sales orders in Chicago\",\n",
    "  table_properties={\n",
    "    \"myCompanyPipeline.quality\": \"gold\",\n",
    "    \"pipelines.autoOptimize.managed\": \"true\"\n",
    "  }\n",
    ")\n",
    "def sales_order_in_chicago():\n",
    "  df = dlt.read_stream(\"sales_orders_cleaned\").where(\"city == 'Chicago'\") \n",
    "  df = df.select(df.city, df.order_date, df.customer_id, df.customer_name, explode(df.ordered_products).alias(\"ordered_products_explode\"))\n",
    "\n",
    "  dfAgg = df.groupBy(df.order_date, df.city, df.customer_id, df.customer_name, df.ordered_products_explode.curr.alias(\"currency\"))\\\n",
    "    .agg(sum(df.ordered_products_explode.price).alias(\"sales\"), sum(df.ordered_products_explode.qty).alias(\"quantity\"))\n",
    "\n",
    "  return dfAgg"
   ]
  }
 ],
 "metadata": {
  "application/vnd.databricks.v1+notebook": {
   "computePreferences": null,
   "dashboards": [],
   "environmentMetadata": null,
   "language": "python",
   "notebookMetadata": {
    "pythonIndentUnit": 4
   },
   "notebookName": "sample-DLT-pipeline-notebook",
   "widgets": {}
  },
  "language_info": {
   "name": "python"
  }
 },
 "nbformat": 4,
 "nbformat_minor": 0
}