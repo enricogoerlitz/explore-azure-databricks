{
 "cells": [
  {
   "cell_type": "markdown",
   "metadata": {},
   "source": [
    "# Prerequisites MacBook M2\n",
    "\n",
    "```sh\n",
    "$ pip uninstall pyodbc\n",
    "$ brew install unixodbc\n",
    "$ pip install --no-binary :all: pyodbc\n",
    "$ brew update\n",
    "$ brew upgrade\n",
    "$ brew tap microsoft/mssql-release https://github.com/microsoft/homebrew-mssql-release\n",
    "$ brew update\n",
    "$ ACCEPT_EULA=Y brew install msodbcsql17\n",
    "```\n"
   ]
  },
  {
   "cell_type": "code",
   "execution_count": 23,
   "metadata": {},
   "outputs": [
    {
     "name": "stdout",
     "output_type": "stream",
     "text": [
      "CONNECTION STRING:\n",
      " DRIVER={ODBCDriver17forSQLServer};SERVER=eadb-dev-weu-sqls.database.windows.net,1433;PORT=1433;DATABASE=eadb-dev-weu-sqld;UID=adminuser;PWD=adminpw1!;\n",
      "testdb2\n"
     ]
    }
   ],
   "source": [
    "import pyodbc\n",
    "\n",
    "# Define the connection string\n",
    "server = 'eadb-dev-weu-sqls.database.windows.net,1433'\n",
    "database = 'eadb-dev-weu-sqld'\n",
    "username = 'adminuser'\n",
    "password = 'adminpw1!'\n",
    "driver = '{ODBC Driver 17 for SQL Server}'\n",
    "\n",
    "connection_string = f\"\"\"\n",
    "    DRIVER={driver};\n",
    "    SERVER={server};\n",
    "    PORT=1433;\n",
    "    DATABASE={database};\n",
    "    UID={username};\n",
    "    PWD={password};\n",
    "\"\"\"\n",
    "print(\"CONNECTION STRING:\\n\", connection_string.strip().replace('\\n', '').replace(' ', ''))\n",
    "\n",
    "# Establish the connection\n",
    "conn = pyodbc.connect(connection_string)\n",
    "\n",
    "# Verify the connection\n",
    "cursor = conn.cursor()\n",
    "cursor.execute(\"\"\"\n",
    "CREATE TABLE testdb2 (\n",
    "    id INT PRIMARY KEY,\n",
    "    name NVARCHAR(50),\n",
    "    age INT\n",
    ");\n",
    "\"\"\")\n",
    "cursor.execute(\"SELECT TABLE_NAME FROM INFORMATION_SCHEMA.TABLES WHERE TABLE_TYPE = 'BASE TABLE';\")\n",
    "tables = cursor.fetchall()\n",
    "\n",
    "# Print all table names\n",
    "for table in tables:\n",
    "    print(table.TABLE_NAME)"
   ]
  },
  {
   "cell_type": "markdown",
   "metadata": {},
   "source": [
    "**Connection string**\n",
    "\n",
    "DRIVER={ODBCDriver17forSQLServer};SERVER=tcp:testing-sql-server-1.database.windows.net,1433;PORT=1433;DATABASE=testing-sql-database-1;UID=adminuser;PWD=adminpw1!;"
   ]
  },
  {
   "cell_type": "code",
   "execution_count": null,
   "metadata": {},
   "outputs": [],
   "source": []
  }
 ],
 "metadata": {
  "kernelspec": {
   "display_name": "base",
   "language": "python",
   "name": "python3"
  },
  "language_info": {
   "codemirror_mode": {
    "name": "ipython",
    "version": 3
   },
   "file_extension": ".py",
   "mimetype": "text/x-python",
   "name": "python",
   "nbconvert_exporter": "python",
   "pygments_lexer": "ipython3",
   "version": "3.11.4"
  }
 },
 "nbformat": 4,
 "nbformat_minor": 2
}
