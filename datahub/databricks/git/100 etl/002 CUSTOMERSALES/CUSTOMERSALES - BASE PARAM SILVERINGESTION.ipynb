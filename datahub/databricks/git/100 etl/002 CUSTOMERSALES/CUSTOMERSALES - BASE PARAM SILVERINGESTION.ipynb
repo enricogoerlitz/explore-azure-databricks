{
 "cells": [
  {
   "cell_type": "code",
   "execution_count": 0,
   "metadata": {
    "application/vnd.databricks.v1+cell": {
     "cellMetadata": {
      "byteLimit": 2048000,
      "rowLimit": 10000
     },
     "inputWidgets": {},
     "nuid": "56628ac0-14b5-47a7-876c-7706118bf197",
     "showTitle": false,
     "tableResultSettingsMap": {},
     "title": ""
    }
   },
   "outputs": [],
   "source": [
    "# HISTORIZE TABLE\n",
    "# HISTORIZE = None\n",
    "HISTORIZE = dbutils.widgets.text(\"HISTORIZE\", \"true\") == \"true\"\n",
    "\n",
    "# SOURCE CONFIG\n",
    "SOURCE_LAKEHOUSE = dbutils.widgets.text(\"SOURCE_LAKEHOUSE\")\n",
    "SOURCE_SCHEMA = dbutils.widgets.text(\"SOURCE_SCHEMA\")\n",
    "SOURCE_TABLENAME = dbutils.widgets.text(\"SOURCE_TABLENAME\")\n",
    "\n",
    "# DESTINATION CONFIG\n",
    "DESTINATION_LAKEHOUSE = dbutils.widgets.text(\"DESTINATION_LAKEHOUSE\")\n",
    "DESTINATION_SCHEMA = dbutils.widgets.text(\"DESTINATION_SCHEMA\")\n",
    "DESTINATION_TABLENAME = dbutils.widgets.text(\"DESTINATION_TABLENAME\")\n",
    "\n",
    "# NATURAL KEY COLUMNS\n",
    "NK_COLUMNS = dbutils.widgets.text(\"NK_COLUMNS\", \"\")\n",
    "\n",
    "# DELTA LOAD CONFIG\n",
    "IS_DELTA_LOAD = dbutils.widgets.text(\"IS_DELTA_LOAD\", \"true\") == \"true\"\n",
    "DELTA_LOAD_USE_BROADCAST = dbutils.widgets.text(\"DELTA_LOAD_USE_BROADCAST\", \"true\") == \"true\"\n",
    "\n",
    "# INCLUDE / EXCLUDES COLUMNS FROM COMPARING\n",
    "EXCLUDE_COLUMNS_FROM_COMPARING = dbutils.widgets.text(\"EXCLUDE_COLUMNS_FROM_COMPARING\", [])\n",
    "INCLUDE_COLUMNS_FROM_COMPARING = dbutils.widgets.text(\"INCLUDE_COLUMNS_FROM_COMPARING\", [])\n",
    "\n",
    "# PARTITION BY COLUMNS\n",
    "PARTITION_BY_COLUMNS = dbutils.widgets.text(\"PARTITION_BY_COLUMNS\", [])"
   ]
  },
  {
   "cell_type": "code",
   "execution_count": 0,
   "metadata": {
    "application/vnd.databricks.v1+cell": {
     "cellMetadata": {},
     "inputWidgets": {},
     "nuid": "72652354-7a45-4a9a-88e9-db548587a3e8",
     "showTitle": false,
     "tableResultSettingsMap": {},
     "title": ""
    }
   },
   "outputs": [],
   "source": [
    "# Bring parameters in shape\n",
    "\n",
    "if isinstance(NK_COLUMNS, str):\n",
    "    NK_COLUMNS = list([column.strip() for column in NK_COLUMNS.split(\",\")])\n",
    "    print(\"NK-COLUMNS: \", NK_COLUMNS)\n",
    "\n",
    "if isinstance(EXCLUDE_COLUMNS_FROM_COMPARING, str):\n",
    "    EXCLUDE_COLUMNS_FROM_COMPARING = list(set([column.strip() for column in EXCLUDE_COLUMNS_FROM_COMPARING.split(\",\")]))\n",
    "    print(\"EXCLUDE_COLUMNS_FROM_COMPARING: \", EXCLUDE_COLUMNS_FROM_COMPARING)\n",
    "\n",
    "if isinstance(INCLUDE_COLUMNS_FROM_COMPARING, str):\n",
    "    INCLUDE_COLUMNS_FROM_COMPARING = list(set([column.strip() for column in INCLUDE_COLUMNS_FROM_COMPARING.split(\",\")]))\n",
    "    print(\"INCLUDE_COLUMNS_FROM_COMPARING: \", INCLUDE_COLUMNS_FROM_COMPARING)\n",
    "\n",
    "if isinstance(PARTITION_BY_COLUMNS, str):\n",
    "    PARTITION_BY_COLUMNS = list([column.strip() for column in PARTITION_BY_COLUMNS.split(\",\")])\n",
    "    print(\"PARTITION_BY_COLUMNS: \", PARTITION_BY_COLUMNS)\n"
   ]
  },
  {
   "cell_type": "code",
   "execution_count": 0,
   "metadata": {
    "application/vnd.databricks.v1+cell": {
     "cellMetadata": {},
     "inputWidgets": {},
     "nuid": "d14fe80a-39c9-4176-952c-322e886f05ac",
     "showTitle": false,
     "tableResultSettingsMap": {},
     "title": ""
    }
   },
   "outputs": [],
   "source": [
    "%run \"/Workspace/Users/rico.goerlitz@gmail.com/explore-azure-databricks-project/datahub/databricks/git/100 etl/001 MASTER NOTEBOOK/MASTER_SILVERINGESTION\""
   ]
  },
  {
   "cell_type": "code",
   "execution_count": 0,
   "metadata": {
    "application/vnd.databricks.v1+cell": {
     "cellMetadata": {},
     "inputWidgets": {},
     "nuid": "ad898c78-c4f0-4380-b687-2dd58a15cdac",
     "showTitle": false,
     "tableResultSettingsMap": {},
     "title": ""
    }
   },
   "outputs": [],
   "source": [
    "from dataclasses import dataclass\n",
    "from datetime import datetime\n",
    "\n",
    "\n",
    "# LOGGING\n",
    "start_time = datetime.now()\n",
    "print(f\"\\nETL STARTED AT:\\t\\t{start_time}\")\n",
    "\n",
    "\n",
    "# ADD TRANSFORMATIONS TO ETL\n",
    "TRANSFORMATIONS: dict = {\n",
    "    \"{tableName}\": lambda: print(\"Add transformation function (instead of lambda: ...)\"),\n",
    "}\n",
    "\n",
    "\n",
    "# RUN ETL\n",
    "spark.sql(f\"\"\"\n",
    "    CREATE DATABASE IF NOT EXISTS {DESTINATION_LAKEHOUSE}\n",
    "    LOCATION '/mnt/datahub/{DESTINATION_LAKEHOUSE}'\n",
    "\"\"\")\n",
    "\n",
    "etl.init(\n",
    "    spark=spark,\n",
    "    src_lakehouse=SOURCE_LAKEHOUSE,\n",
    "    src_schema=SOURCE_SCHEMA,\n",
    "    src_tablename=SOURCE_TABLENAME,\n",
    "    dist_lakehouse=DESTINATION_LAKEHOUSE,\n",
    "    dist_schema=DESTINATION_SCHEMA,\n",
    "    dist_tablename=DESTINATION_TABLENAME,\n",
    "    nk_columns=NK_COLUMNS,\n",
    "    constant_columns=CONSTANT_COLUMNS,\n",
    "    is_delta_load=IS_DELTA_LOAD,\n",
    "    delta_load_use_broadcast=DELTA_LOAD_USE_BROADCAST,\n",
    "    transformations=TRANSFORMATIONS,\n",
    "    exclude_comparing_columns=EXCLUDE_COLUMNS_FROM_COMPARING,\n",
    "    include_comparing_columns=INCLUDE_COLUMNS_FROM_COMPARING,\n",
    "    historize=HISTORIZE,\n",
    "    partition_by_columns=PARTITION_BY_COLUMNS,\n",
    ")\n",
    "\n",
    "print(\"ETL CONFIG:\", str(etl))\n",
    "\n",
    "etl.ingest()\n",
    "\n",
    "\n",
    "# LOG ETL TIME DURATION\n",
    "end_time = datetime.now()\n",
    "etl_time_duration = (end_time - start_time).total_seconds()\n",
    "\n",
    "print(f\"ETL ENDED AT:\\t\\t{end_time}\")\n",
    "print(f\"ETL TIME DURATION:\\t{etl_time_duration}s\")"
   ]
  }
 ],
 "metadata": {
  "application/vnd.databricks.v1+notebook": {
   "computePreferences": null,
   "dashboards": [],
   "environmentMetadata": {
    "base_environment": "",
    "client": "1"
   },
   "language": "python",
   "notebookMetadata": {
    "pythonIndentUnit": 4
   },
   "notebookName": "CUSTOMERSALES - BASE PARAM SILVERINGESTION",
   "widgets": {}
  },
  "language_info": {
   "name": "python"
  }
 },
 "nbformat": 4,
 "nbformat_minor": 0
}
