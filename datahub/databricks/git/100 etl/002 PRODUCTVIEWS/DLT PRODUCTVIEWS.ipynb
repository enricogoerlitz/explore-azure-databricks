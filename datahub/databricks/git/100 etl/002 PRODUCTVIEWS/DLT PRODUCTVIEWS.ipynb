{
 "cells": [
  {
   "cell_type": "code",
   "execution_count": 0,
   "metadata": {
    "application/vnd.databricks.v1+cell": {
     "cellMetadata": {},
     "inputWidgets": {},
     "nuid": "8de08fc9-c4ea-422a-9504-861076fd79e4",
     "showTitle": false,
     "tableResultSettingsMap": {},
     "title": ""
    }
   },
   "outputs": [],
   "source": [
    "SCOPE = \"dh-keyvault\"\n",
    "\n",
    "ADLS_PATH = dbutils.secrets.get(scope=SCOPE, key=\"dlt-adls-path\")\n",
    "\n",
    "COSMOS_DB_ENDPOINT = dbutils.secrets.get(scope=SCOPE, key=\"cosmos-db-endpoint\")\n",
    "COSMOS_DB_MASTER_KEY = dbutils.secrets.get(scope=SCOPE, key=\"cosmos-db-access-key\")\n",
    "COSMOS_DB_DATABASE = dbutils.secrets.get(scope=SCOPE, key=\"cosmos-db-database\")\n",
    "COSMOS_DB_CONTAINER = dbutils.secrets.get(scope=SCOPE, key=\"cosmos-db-container\")"
   ]
  },
  {
   "cell_type": "code",
   "execution_count": 0,
   "metadata": {
    "application/vnd.databricks.v1+cell": {
     "cellMetadata": {},
     "inputWidgets": {},
     "nuid": "383328d7-6065-47f2-ada1-b9d9894f9db6",
     "showTitle": false,
     "tableResultSettingsMap": {},
     "title": ""
    }
   },
   "outputs": [],
   "source": [
    "from pyspark.sql import functions as F\n",
    "from pyspark.sql import types as T\n",
    "import dlt\n",
    "\n",
    "\n",
    "# 1. Define a function to read from Cosmos DB Change Feed\n",
    "@dlt.table(\n",
    "    comment=\"This table reads change feed data from Cosmos DB in real time.\"\n",
    ")\n",
    "def cosmosdb_raw_data():\n",
    "    return (\n",
    "        spark.readStream.format(\"cosmos.oltp.changefeed\")\n",
    "        .option(\"spark.cosmos.accountEndpoint\", COSMOS_DB_ENDPOINT)\n",
    "        .option(\"spark.cosmos.accountKey\", COSMOS_DB_MASTER_KEY)\n",
    "        .option(\"spark.cosmos.database\", COSMOS_DB_DATABASE)\n",
    "        .option(\"spark.cosmos.container\", COSMOS_DB_CONTAINER)\n",
    "        .option(\"spark.cosmos.changefeed.mode\", \"Incremental\")  # Options: FullFidelity, Incremental\n",
    "        .load()\n",
    "    )\n",
    "\n",
    "# 2. Transform and Clean Data (Optional)\n",
    "@dlt.table(\n",
    "    comment=\"Cleaned and transformed data from Cosmos DB Change Feed.\"\n",
    ")\n",
    "def cleaned_data():\n",
    "    raw_data = dlt.read_stream(\"cosmosdb_raw_data\")\n",
    "    return raw_data\n",
    "\n",
    "# 3. Write the data to ADLS\n",
    "@dlt.table(\n",
    "    comment=\"Store cleaned data into ADLS Delta Table.\",\n",
    "    path=ADLS_PATH,\n",
    "    table_properties={\"delta.format.checkpointInterval\": \"5 minutes\"}\n",
    ")\n",
    "def adls_delta_table():\n",
    "    return dlt.read(\"cleaned_data\")\n"
   ]
  }
 ],
 "metadata": {
  "application/vnd.databricks.v1+notebook": {
   "computePreferences": null,
   "dashboards": [],
   "environmentMetadata": {
    "base_environment": "",
    "client": "1"
   },
   "language": "python",
   "notebookMetadata": {
    "pythonIndentUnit": 4
   },
   "notebookName": "DLT PRODUCTVIEWS",
   "widgets": {}
  },
  "language_info": {
   "name": "python"
  }
 },
 "nbformat": 4,
 "nbformat_minor": 0
}
