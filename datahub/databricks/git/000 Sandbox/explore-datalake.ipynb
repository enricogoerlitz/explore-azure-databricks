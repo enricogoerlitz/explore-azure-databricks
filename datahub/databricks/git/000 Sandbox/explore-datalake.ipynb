{
 "cells": [
  {
   "cell_type": "markdown",
   "metadata": {
    "application/vnd.databricks.v1+cell": {
     "cellMetadata": {
      "byteLimit": 2048000,
      "rowLimit": 10000
     },
     "inputWidgets": {},
     "nuid": "7a8b52c8-667e-48b2-ab24-faa8a29152ac",
     "showTitle": false,
     "tableResultSettingsMap": {},
     "title": ""
    }
   },
   "source": [
    "# Explore Data Lake"
   ]
  },
  {
   "cell_type": "markdown",
   "metadata": {
    "application/vnd.databricks.v1+cell": {
     "cellMetadata": {
      "byteLimit": 2048000,
      "rowLimit": 10000
     },
     "inputWidgets": {},
     "nuid": "da986965-0359-4a73-bcd7-9d19244da085",
     "showTitle": false,
     "tableResultSettingsMap": {},
     "title": ""
    }
   },
   "source": [
    "## Utils"
   ]
  },
  {
   "cell_type": "code",
   "execution_count": 0,
   "metadata": {
    "application/vnd.databricks.v1+cell": {
     "cellMetadata": {
      "byteLimit": 2048000,
      "rowLimit": 10000
     },
     "inputWidgets": {},
     "nuid": "30a314c9-567a-404e-9e3b-6dbc3b38eba1",
     "showTitle": false,
     "tableResultSettingsMap": {},
     "title": ""
    }
   },
   "outputs": [],
   "source": [
    "DATAHUB_PATH = \"dbfs:/mnt/datahub\"\n",
    "DL_PATH_BRONZE = f\"{DATAHUB_PATH}/bronze\"\n",
    "DL_PATH_SILVER = f\"{DATAHUB_PATH}/silver\"\n",
    "DL_PATH_DEMO = f\"{DATAHUB_PATH}/demo\"\n",
    "\n",
    "DATABASE = \"customersales\"\n",
    "SCHEMA = \"dbo\""
   ]
  },
  {
   "cell_type": "code",
   "execution_count": 0,
   "metadata": {
    "application/vnd.databricks.v1+cell": {
     "cellMetadata": {
      "byteLimit": 2048000,
      "rowLimit": 10000
     },
     "inputWidgets": {},
     "nuid": "5e796c50-62db-4ae6-bee0-ffc4f2bda733",
     "showTitle": false,
     "tableResultSettingsMap": {},
     "title": ""
    }
   },
   "outputs": [],
   "source": [
    "def get_bronze_table_path(schema: str, tablename: str) -> str:\n",
    "    return f\"{DL_PATH_BRONZE}/{DATABASE}/{schema}/{tablename}.parquet\"\n",
    "\n",
    "\n",
    "def get_write_table_path(container_path: str, schema: str, tablename: str) -> str:\n",
    "    return f\"{container_path}/{DATABASE}/{schema}/{tablename}\"\n",
    "\n",
    "\n",
    "print(get_bronze_table_path(SCHEMA, \"distributors\"))\n",
    "print(get_write_table_path(DL_PATH_SILVER, SCHEMA, \"distributors\"))\n"
   ]
  },
  {
   "cell_type": "code",
   "execution_count": 0,
   "metadata": {
    "application/vnd.databricks.v1+cell": {
     "cellMetadata": {
      "byteLimit": 2048000,
      "rowLimit": 10000
     },
     "inputWidgets": {},
     "nuid": "89c69a94-df13-4ec2-9bfe-4befc1775f2f",
     "showTitle": false,
     "tableResultSettingsMap": {},
     "title": ""
    }
   },
   "outputs": [],
   "source": [
    "df = spark.read.parquet(get_bronze_table_path(SCHEMA, \"distributors\"))\n",
    "display(df)"
   ]
  },
  {
   "cell_type": "code",
   "execution_count": 0,
   "metadata": {
    "application/vnd.databricks.v1+cell": {
     "cellMetadata": {
      "byteLimit": 2048000,
      "rowLimit": 10000
     },
     "inputWidgets": {},
     "nuid": "9ab1f87e-6f5b-49bb-82c2-d25914540652",
     "showTitle": false,
     "tableResultSettingsMap": {},
     "title": ""
    }
   },
   "outputs": [],
   "source": [
    "tablename = get_write_table_path(DL_PATH_DEMO, SCHEMA, \"distributors\")\n",
    "print(tablename)"
   ]
  },
  {
   "cell_type": "code",
   "execution_count": 0,
   "metadata": {
    "application/vnd.databricks.v1+cell": {
     "cellMetadata": {
      "byteLimit": 2048000,
      "rowLimit": 10000
     },
     "inputWidgets": {},
     "nuid": "269c8d77-89d9-4942-99ab-203d84551f59",
     "showTitle": false,
     "tableResultSettingsMap": {},
     "title": ""
    }
   },
   "outputs": [],
   "source": [
    "spark.sql(f\"\"\"\n",
    "    CREATE DATABASE IF NOT EXISTS demolakehouse\n",
    "    LOCATION '/mnt/datahub/demo'\n",
    "\"\"\")"
   ]
  },
  {
   "cell_type": "code",
   "execution_count": 0,
   "metadata": {
    "application/vnd.databricks.v1+cell": {
     "cellMetadata": {
      "byteLimit": 2048000,
      "implicitDf": true,
      "rowLimit": 10000
     },
     "inputWidgets": {},
     "nuid": "d2e4922a-c4f3-4bf4-a415-ba4b155815b4",
     "showTitle": false,
     "tableResultSettingsMap": {},
     "title": ""
    }
   },
   "outputs": [],
   "source": [
    "%sql\n",
    "SHOW DATABASES"
   ]
  },
  {
   "cell_type": "code",
   "execution_count": 0,
   "metadata": {
    "application/vnd.databricks.v1+cell": {
     "cellMetadata": {
      "byteLimit": 2048000,
      "rowLimit": 10000
     },
     "inputWidgets": {},
     "nuid": "866238c5-b786-4575-83aa-2e88f1697513",
     "showTitle": false,
     "tableResultSettingsMap": {},
     "title": ""
    }
   },
   "outputs": [],
   "source": [
    "df.write \\\n",
    "    .format(\"delta\") \\\n",
    "    .mode(\"overwrite\") \\\n",
    "    .option(\"mergeSchema\", \"true\") \\\n",
    "    .saveAsTable(\"demolakehouse.dbo_distributors\")"
   ]
  },
  {
   "cell_type": "code",
   "execution_count": 0,
   "metadata": {
    "application/vnd.databricks.v1+cell": {
     "cellMetadata": {
      "byteLimit": 2048000,
      "rowLimit": 10000
     },
     "inputWidgets": {},
     "nuid": "d3a0bfb3-8784-43b8-ba1d-1a004f3b289f",
     "showTitle": false,
     "tableResultSettingsMap": {},
     "title": ""
    }
   },
   "outputs": [],
   "source": [
    "%run \"/Workspace/Users/rico.goerlitz@gmail.com/explore-azure-databricks-project/datahub/databricks/git/100 etl/001 MASTER NOTEBOOK/MASTER_SILVERINGESTION\""
   ]
  },
  {
   "cell_type": "code",
   "execution_count": 0,
   "metadata": {
    "application/vnd.databricks.v1+cell": {
     "cellMetadata": {
      "byteLimit": 2048000,
      "rowLimit": 10000
     },
     "inputWidgets": {},
     "nuid": "dcb8d2a4-9d82-4233-a648-f80bcceb103d",
     "showTitle": false,
     "tableResultSettingsMap": {},
     "title": ""
    }
   },
   "outputs": [],
   "source": [
    "print(etl)"
   ]
  },
  {
   "cell_type": "code",
   "execution_count": 0,
   "metadata": {
    "application/vnd.databricks.v1+cell": {
     "cellMetadata": {
      "byteLimit": 2048000,
      "rowLimit": 10000
     },
     "inputWidgets": {},
     "nuid": "8f5c5e9f-29e1-4b82-978f-a9a9648b0490",
     "showTitle": false,
     "tableResultSettingsMap": {},
     "title": ""
    }
   },
   "outputs": [],
   "source": [
    "etl.init(\n",
    "    spark=spark,\n",
    "    src_lakehouse=\"customersales\",\n",
    "    src_schema=\"dbo\",\n",
    "    src_tablename=\"regions\",\n",
    "    dist_lakehouse=\"demolakehouse\",\n",
    "    dist_schema=\"dbo\",\n",
    "    dist_tablename=\"regions\",\n",
    "    nk_columns=[\"id\"],\n",
    "    constant_columns=None,\n",
    "    is_delta_load=False,\n",
    "    delta_load_use_broadcast=False,\n",
    "    transformations=None,\n",
    "    exclude_comparing_columns=[],\n",
    "    include_comparing_columns=[],\n",
    "    historize=True,\n",
    "    partition_by_columns=[],\n",
    ")\n",
    "\n",
    "etl.ingest()"
   ]
  }
 ],
 "metadata": {
  "application/vnd.databricks.v1+notebook": {
   "computePreferences": null,
   "dashboards": [],
   "environmentMetadata": {
    "base_environment": "",
    "client": "1"
   },
   "language": "python",
   "notebookMetadata": {
    "mostRecentlyExecutedCommandWithImplicitDF": {
     "commandId": 6103606957623379,
     "dataframes": [
      "_sqldf"
     ]
    },
    "pythonIndentUnit": 4
   },
   "notebookName": "explore-datalake",
   "widgets": {}
  },
  "language_info": {
   "name": "python"
  }
 },
 "nbformat": 4,
 "nbformat_minor": 0
}
