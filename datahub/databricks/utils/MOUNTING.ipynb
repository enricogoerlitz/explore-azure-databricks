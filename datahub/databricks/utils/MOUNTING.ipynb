{
 "cells": [
  {
   "cell_type": "markdown",
   "metadata": {},
   "source": [
    "# Mount Containers"
   ]
  },
  {
   "cell_type": "code",
   "execution_count": null,
   "metadata": {},
   "outputs": [],
   "source": [
    "def mount_adls_by_extra_app(\n",
    "    tenant_id: str,\n",
    "    client_id: str,\n",
    "    client_secret: str,\n",
    "    mounting_folder_path: str,\n",
    "    storage_account_name: str,\n",
    "    container_name: str,\n",
    "    replace_if_exists: bool = False,\n",
    "    display_mounts: bool = False\n",
    ") -> str:\n",
    "    mounting_folder_path = mounting_folder_path[1:] if mounting_folder_path.startswith(\"/\") else mounting_folder_path\n",
    "    \n",
    "    configs = {\n",
    "        \"fs.azure.account.auth.type\": \"OAuth\",\n",
    "        \"fs.azure.account.oauth.provider.type\": \"org.apache.hadoop.fs.azurebfs.oauth2.ClientCredsTokenProvider\",\n",
    "        \"fs.azure.account.oauth2.client.id\": client_id,\n",
    "        \"fs.azure.account.oauth2.client.secret\": client_secret,\n",
    "        \"fs.azure.account.oauth2.client.endpoint\": f\"https://login.microsoftonline.com/{tenant_id}/oauth2/token\"\n",
    "    }\n",
    "\n",
    "    source_path = f\"abfss://{container_name}@{storage_account_name}.dfs.core.windows.net/\"\n",
    "    mount_point = f\"/mnt/{mounting_folder_path}\"\n",
    "    \n",
    "    # Unmount the mount point if it already exists\n",
    "    if any(\n",
    "        mount.mountPoint == mount_point\n",
    "        for mount in dbutils.fs.mounts()\n",
    "    ):\n",
    "        if not replace_if_exists:\n",
    "            display(dbutils.fs.mounts())\n",
    "            return mount_point\n",
    "        dbutils.fs.unmount(mount_point)\n",
    "    \n",
    "    # Mount the storage account container\n",
    "    dbutils.fs.mount(\n",
    "        source=source_path,\n",
    "        mount_point=mount_point,\n",
    "        extra_configs=configs\n",
    "    )\n",
    "\n",
    "    if display_mounts:\n",
    "        display(dbutils.fs.mounts())\n",
    "    \n",
    "    return mount_point"
   ]
  },
  {
   "cell_type": "code",
   "execution_count": null,
   "metadata": {},
   "outputs": [],
   "source": [
    "# => # secrets/createScope\n",
    "dbutils.secrets.listScopes()"
   ]
  },
  {
   "cell_type": "code",
   "execution_count": null,
   "metadata": {},
   "outputs": [],
   "source": [
    "STORAGE_ACCOUNT_NAME = \"eadbdldevweusa\"\n",
    "MOUNT_FOLDER = \"/datahub\"\n",
    "MOUNT_CONTAINERS = [\n",
    "    \"bronze\",\n",
    "    \"silver\",\n",
    "    \"gold\"\n",
    "]\n",
    "\n",
    "for container in MOUNT_CONTAINERS:\n",
    "    mount_desination = f\"{MOUNT_FOLDER}/{container}\"\n",
    "    mount_point = mount_adls_by_extra_app(\n",
    "        tenant_id=tenant_id,\n",
    "        client_id=client_id,\n",
    "        client_secret=client_secret,\n",
    "        mounting_folder_path=mount_desination,\n",
    "        storage_account_name=STORAGE_ACCOUNT_NAME,\n",
    "        container_name=container,\n",
    "        replace_if_exists=True,\n",
    "        display_mounts=False\n",
    "    )\n",
    "    print(\"mounted:\", mount_point)"
   ]
  },
  {
   "cell_type": "code",
   "execution_count": null,
   "metadata": {},
   "outputs": [],
   "source": [
    "PATH = \"dbfs:/mnt/datahub/bronze/demo/circuits.csv\"\n",
    "df = spark.read.csv(PATH, header=True)\n",
    "display(df)"
   ]
  }
 ],
 "metadata": {
  "language_info": {
   "name": "python"
  }
 },
 "nbformat": 4,
 "nbformat_minor": 2
}
